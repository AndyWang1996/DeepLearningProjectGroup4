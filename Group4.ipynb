{
  "nbformat": 4,
  "nbformat_minor": 0,
  "metadata": {
    "colab": {
      "name": "Group4.ipynb",
      "provenance": [],
      "collapsed_sections": [],
      "toc_visible": true,
      "include_colab_link": true
    },
    "kernelspec": {
      "name": "python3",
      "display_name": "Python 3"
    },
    "accelerator": "GPU"
  },
  "cells": [
    {
      "cell_type": "markdown",
      "metadata": {
        "id": "view-in-github",
        "colab_type": "text"
      },
      "source": [
        "<a href=\"https://colab.research.google.com/github/AndyWang1996/DeepLearningProjectGroup4/blob/master/Group4.ipynb\" target=\"_parent\"><img src=\"https://colab.research.google.com/assets/colab-badge.svg\" alt=\"Open In Colab\"/></a>"
      ]
    },
    {
      "cell_type": "code",
      "metadata": {
        "id": "EG_gdAB7T0Ar",
        "colab_type": "code",
        "outputId": "9a9764e0-270d-47b1-e1d8-b248942a0f3f",
        "colab": {
          "base_uri": "https://localhost:8080/",
          "height": 101
        }
      },
      "source": [
        "! pip3 install torch torchvision\n"
      ],
      "execution_count": 0,
      "outputs": [
        {
          "output_type": "stream",
          "text": [
            "Requirement already satisfied: torch in /usr/local/lib/python3.6/dist-packages (1.4.0)\n",
            "Requirement already satisfied: torchvision in /usr/local/lib/python3.6/dist-packages (0.5.0)\n",
            "Requirement already satisfied: pillow>=4.1.1 in /usr/local/lib/python3.6/dist-packages (from torchvision) (6.2.2)\n",
            "Requirement already satisfied: numpy in /usr/local/lib/python3.6/dist-packages (from torchvision) (1.17.5)\n",
            "Requirement already satisfied: six in /usr/local/lib/python3.6/dist-packages (from torchvision) (1.12.0)\n"
          ],
          "name": "stdout"
        }
      ]
    },
    {
      "cell_type": "code",
      "metadata": {
        "id": "pvZ7Gu5kmL15",
        "colab_type": "code",
        "colab": {}
      },
      "source": [
        ""
      ],
      "execution_count": 0,
      "outputs": []
    },
    {
      "cell_type": "code",
      "metadata": {
        "id": "HZLzG5ss2yO2",
        "colab_type": "code",
        "outputId": "8ad65d72-86bc-43a2-d96d-91f915faf779",
        "colab": {
          "base_uri": "https://localhost:8080/",
          "height": 67
        }
      },
      "source": [
        "import torch\n",
        "print(torch.cuda.is_available())\n",
        "print(torch.cuda.device_count())\n",
        "print(torch.cuda.get_device_name())"
      ],
      "execution_count": 0,
      "outputs": [
        {
          "output_type": "stream",
          "text": [
            "True\n",
            "1\n",
            "Tesla T4\n"
          ],
          "name": "stdout"
        }
      ]
    },
    {
      "cell_type": "code",
      "metadata": {
        "id": "X4G66KlWmRKV",
        "colab_type": "code",
        "outputId": "c61c8ce1-5342-4de0-e2b0-8b61cdc18b38",
        "colab": {
          "base_uri": "https://localhost:8080/",
          "height": 118
        }
      },
      "source": [
        "from __future__ import print_function\n",
        "x = torch.rand(6,6)\n",
        "print(x)"
      ],
      "execution_count": 0,
      "outputs": [
        {
          "output_type": "stream",
          "text": [
            "tensor([[0.7568, 0.6780, 0.8569, 0.5787, 0.3138, 0.8005],\n",
            "        [0.2542, 0.9918, 0.7910, 0.0947, 0.0077, 0.0117],\n",
            "        [0.1510, 0.4658, 0.9394, 0.9883, 0.6603, 0.6851],\n",
            "        [0.2795, 0.1031, 0.4025, 0.7946, 0.2885, 0.0718],\n",
            "        [0.8196, 0.7053, 0.4191, 0.9394, 0.7290, 0.2887],\n",
            "        [0.1219, 0.7203, 0.6681, 0.8705, 0.3749, 0.8088]])\n"
          ],
          "name": "stdout"
        }
      ]
    },
    {
      "cell_type": "markdown",
      "metadata": {
        "id": "8cRQHvFzqjgS",
        "colab_type": "text"
      },
      "source": [
        "# 问题1\n",
        "图像的尺寸差异太大，要训练需要截取一个标准尺寸的图像。目前我的想法是，取每个图像的中心点，然后向上下左右拓展300像素，总计600x600像素的采集区域。\n",
        "实际操作：将所有图片缩放成1000x1000像素，截取中央肺部600x600像素区域"
      ]
    }
  ]
}